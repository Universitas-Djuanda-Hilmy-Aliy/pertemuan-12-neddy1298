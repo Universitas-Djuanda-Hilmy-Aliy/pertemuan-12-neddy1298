{
 "cells": [
  {
   "cell_type": "markdown",
   "metadata": {},
   "source": [
    "## Pre-Trained Model\n",
    "\n",
    "menggunakan model yang sudah dilatih"
   ]
  },
  {
   "cell_type": "code",
   "execution_count": 16,
   "metadata": {},
   "outputs": [],
   "source": [
    "import matplotlib.pyplot as plt\n",
    "from tensorflow.keras.datasets import fashion_mnist\n",
    "\n",
    "(train_images, train_labels), (test_images, test_labels) = fashion_mnist.load_data()"
   ]
  },
  {
   "cell_type": "code",
   "execution_count": 17,
   "metadata": {},
   "outputs": [],
   "source": [
    "train_images = train_images.reshape((60000, 28 * 28))\n",
    "train_images = train_images.astype('float32') / 255\n",
    "\n",
    "test_images = test_images.reshape((10000, 28 * 28))\n",
    "test_images = test_images.astype('float32') / 255"
   ]
  },
  {
   "cell_type": "code",
   "execution_count": 18,
   "metadata": {},
   "outputs": [],
   "source": [
    "from tensorflow.keras.models import load_model"
   ]
  },
  {
   "cell_type": "code",
   "execution_count": 19,
   "metadata": {},
   "outputs": [],
   "source": [
    "pretrained_model = load_model('model_neddy.h5')"
   ]
  },
  {
   "cell_type": "code",
   "execution_count": 20,
   "metadata": {},
   "outputs": [],
   "source": [
    "import numpy as np"
   ]
  },
  {
   "cell_type": "code",
   "execution_count": 22,
   "metadata": {},
   "outputs": [
    {
     "name": "stdout",
     "output_type": "stream",
     "text": [
      "akurasi hasil data test : 0.87\n"
     ]
    }
   ],
   "source": [
    "prediksi = pretrained_model(test_images)\n",
    "prediksi = prediksi.numpy() # Supaya hasilnya array\n",
    "prediksi_label = np.argmax(prediksi, axis=1)\n",
    "prediksi_betul = prediksi_label == test_labels\n",
    "print(f\"akurasi hasil data test : {prediksi_betul.mean():.2f}\")"
   ]
  },
  {
   "cell_type": "markdown",
   "metadata": {},
   "source": [
    "## Underfitting\n",
    "\n",
    "definisi: situasi dimana model tidak dapat menangkap pola yang cukup dalam proses training\n",
    "\n",
    "Penyebab:\n",
    "1. Model terlalu sederhana\n",
    "2. Data training terlalu sedikit\n",
    "3. Proses training tidak cukup\n",
    "4. Parameter training tidak sesuai\n",
    "\n",
    "Cara mengatasi:\n",
    "1. Meningkatkan kompleksitas model\n",
    "2. Datanya lebih banyak dan representatif\n",
    "3. Menyesuaikan parameter"
   ]
  },
  {
   "cell_type": "code",
   "execution_count": 23,
   "metadata": {},
   "outputs": [],
   "source": [
    "# Arsitektur modelnya\n",
    "\n",
    "import tensorflow as tf\n",
    "import numpy as np\n",
    "\n",
    "model_kedua = tf.keras.Sequential([\n",
    "    tf.keras.layers.Dense(10, activation='relu')\n",
    "])"
   ]
  },
  {
   "cell_type": "code",
   "execution_count": 24,
   "metadata": {},
   "outputs": [
    {
     "name": "stdout",
     "output_type": "stream",
     "text": [
      "WARNING:tensorflow:From c:\\Users\\neddy\\AppData\\Local\\Programs\\Python\\Python310\\lib\\site-packages\\keras\\src\\optimizers\\__init__.py:309: The name tf.train.Optimizer is deprecated. Please use tf.compat.v1.train.Optimizer instead.\n",
      "\n"
     ]
    }
   ],
   "source": [
    "model_kedua.compile(optimizer='rmsprop', loss='sparse_categorical_crossentropy', metrics=['accuracy'])"
   ]
  },
  {
   "cell_type": "code",
   "execution_count": 27,
   "metadata": {},
   "outputs": [
    {
     "name": "stdout",
     "output_type": "stream",
     "text": [
      "Epoch 1/2\n",
      "477/477 [==============================] - 1s 2ms/step - loss: 2.2277 - accuracy: 0.1328\n",
      "Epoch 2/2\n",
      "477/477 [==============================] - 1s 1ms/step - loss: 2.2283 - accuracy: 0.1327\n"
     ]
    },
    {
     "data": {
      "text/plain": [
       "<keras.src.callbacks.History at 0x28203a39f90>"
      ]
     },
     "execution_count": 27,
     "metadata": {},
     "output_type": "execute_result"
    }
   ],
   "source": [
    "model_kedua.fit(train_images, train_labels, epochs=2, batch_size=126)"
   ]
  },
  {
   "cell_type": "markdown",
   "metadata": {},
   "source": [
    "## Learning Rate\n",
    "\n",
    "merupakan parameter penting dalam proses training. Learning rate merupakan nilai yang menentukan seberapa besar penyesuaian yang dilakukan pada bobot (weight) model pada setiap proses training.\n",
    "\n",
    "Learning rate mengontrol seberapa cepat atau lambat model untuk belajar.\n",
    "- Jika nilai learning rate tinggi, dapat menyebabkan model cepat belajar, tapi berisiko melewatkan kesalahan.\n",
    "- Jika nilai learning rate rendah, maka model akan belajar lebih hati-hati, tetapi proses pembelajaran menjadi lebih lambat."
   ]
  },
  {
   "cell_type": "code",
   "execution_count": 28,
   "metadata": {},
   "outputs": [],
   "source": [
    "# Arsitektur modelnya\n",
    "\n",
    "import tensorflow as tf\n",
    "import numpy as np\n",
    "\n",
    "model_kedua = tf.keras.Sequential([\n",
    "    tf.keras.layers.Dense(512, activation='relu'),\n",
    "    tf.keras.layers.Dropout(0.5),\n",
    "    tf.keras.layers.Dense(256, activation='relu'),\n",
    "    tf.keras.layers.Dropout(0.5),\n",
    "    tf.keras.layers.Dense(128, activation='relu'),\n",
    "    tf.keras.layers.Dense(64, activation='relu'),\n",
    "    tf.keras.layers.Dense(32, activation='relu'),\n",
    "    tf.keras.layers.Dense(10, activation='sigmoid')\n",
    "])"
   ]
  },
  {
   "cell_type": "code",
   "execution_count": 29,
   "metadata": {},
   "outputs": [],
   "source": [
    "learning_rate1 = 0.001"
   ]
  },
  {
   "cell_type": "code",
   "execution_count": 30,
   "metadata": {},
   "outputs": [],
   "source": [
    "model_kedua.compile(optimizer=tf.keras.optimizers.RMSprop(learning_rate= learning_rate1), loss='sparse_categorical_crossentropy', metrics=['accuracy'])"
   ]
  },
  {
   "cell_type": "code",
   "execution_count": 31,
   "metadata": {},
   "outputs": [
    {
     "name": "stdout",
     "output_type": "stream",
     "text": [
      "Epoch 1/10\n",
      "235/235 [==============================] - 3s 9ms/step - loss: 0.8100 - accuracy: 0.7000\n",
      "Epoch 2/10\n",
      "235/235 [==============================] - 2s 9ms/step - loss: 0.5146 - accuracy: 0.8142\n",
      "Epoch 3/10\n",
      "235/235 [==============================] - 2s 9ms/step - loss: 0.4578 - accuracy: 0.8332\n",
      "Epoch 4/10\n",
      "235/235 [==============================] - 2s 10ms/step - loss: 0.4305 - accuracy: 0.8443\n",
      "Epoch 5/10\n",
      "235/235 [==============================] - 2s 9ms/step - loss: 0.4074 - accuracy: 0.8527\n",
      "Epoch 6/10\n",
      "235/235 [==============================] - 2s 10ms/step - loss: 0.3921 - accuracy: 0.8578\n",
      "Epoch 7/10\n",
      "235/235 [==============================] - 2s 10ms/step - loss: 0.3785 - accuracy: 0.8632\n",
      "Epoch 8/10\n",
      "235/235 [==============================] - 2s 10ms/step - loss: 0.3718 - accuracy: 0.8648\n",
      "Epoch 9/10\n",
      "235/235 [==============================] - 2s 10ms/step - loss: 0.3603 - accuracy: 0.8683\n",
      "Epoch 10/10\n",
      "235/235 [==============================] - 2s 10ms/step - loss: 0.3554 - accuracy: 0.8712\n"
     ]
    },
    {
     "data": {
      "text/plain": [
       "<keras.src.callbacks.History at 0x28203a3a9b0>"
      ]
     },
     "execution_count": 31,
     "metadata": {},
     "output_type": "execute_result"
    }
   ],
   "source": [
    "model_kedua.fit(train_images, train_labels, epochs=10, batch_size=256)"
   ]
  }
 ],
 "metadata": {
  "kernelspec": {
   "display_name": "Python 3",
   "language": "python",
   "name": "python3"
  },
  "language_info": {
   "codemirror_mode": {
    "name": "ipython",
    "version": 3
   },
   "file_extension": ".py",
   "mimetype": "text/x-python",
   "name": "python",
   "nbconvert_exporter": "python",
   "pygments_lexer": "ipython3",
   "version": "3.10.7"
  }
 },
 "nbformat": 4,
 "nbformat_minor": 2
}
